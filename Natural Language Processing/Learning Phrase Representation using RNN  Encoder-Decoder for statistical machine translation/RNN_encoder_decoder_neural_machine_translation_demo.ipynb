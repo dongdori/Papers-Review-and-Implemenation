{
  "nbformat": 4,
  "nbformat_minor": 0,
  "metadata": {
    "colab": {
      "name": "RNN_encoder_decoder_neural_machine_translation_demo.ipynb",
      "provenance": [],
      "collapsed_sections": []
    },
    "kernelspec": {
      "name": "python3",
      "display_name": "Python 3"
    },
    "language_info": {
      "name": "python"
    }
  },
  "cells": [
    {
      "cell_type": "markdown",
      "metadata": {
        "id": "RQ-lZdmvLrmK"
      },
      "source": [
        "# 1. Load Libraries"
      ]
    },
    {
      "cell_type": "code",
      "metadata": {
        "id": "pAZqZA4EIaOP"
      },
      "source": [
        "import numpy as np\n",
        "import pandas as pd\n",
        "import os\n",
        "import sys\n",
        "import matplotlib.pyplot as plt\n",
        "import warnings\n",
        "warnings.filterwarnings(\"ignore\")\n",
        "from math import cos, sin, pi\n",
        "from tqdm import tqdm\n",
        "\n",
        "#algorithms\n",
        "import sklearn\n",
        "from sklearn.model_selection import train_test_split\n",
        "import tensorflow as tf\n",
        "from tensorflow import keras\n",
        "from keras import Model\n",
        "from keras.layers import *\n",
        "from keras.layers import Activation,Conv2D,MaxPooling2D,UpSampling2D,Dense,BatchNormalization,Input,Reshape,multiply,add,Dropout,AveragePooling2D,GlobalAveragePooling2D,concatenate\n",
        "from keras.layers.convolutional import Conv2DTranspose\n",
        "from keras.models import Model  \n",
        "import keras.backend as K\n",
        "from keras.regularizers import l2\n",
        "from keras.engine import Layer,InputSpec\n",
        "from keras.utils import conv_utils"
      ],
      "execution_count": 1,
      "outputs": []
    },
    {
      "cell_type": "markdown",
      "metadata": {
        "id": "sTN8EmXwLuuh"
      },
      "source": [
        "# 2. Defining trainer"
      ]
    },
    {
      "cell_type": "code",
      "metadata": {
        "id": "-b86hxItggGo"
      },
      "source": [
        "def Encoder_decoder_trainer(max_len, K, latent_dim = 1000, dim_embed = 100):\n",
        "    #training encoder \n",
        "    encoder_input = Input(shape = (max_len,), name = 'encoder_input')\n",
        "    enc_emb = Embedding(input_dim = K, output_dim = dim_embed, name = 'encoder_embedding')(encoder_input)\n",
        "    m_x = GlobalAveragePooling1D(name = 'm_x')(enc_emb)\n",
        "    h_enc = GRU(latent_dim, activation = 'tanh', name = 'encoder_GRU')(enc_emb) # returns only last step output (dimension of n_hidden_units\n",
        "\n",
        "    #training decoder\n",
        "    decoder_input = Input(shape = (max_len,), name = 'decoder_input')\n",
        "    dec_emb = Embedding(input_dim = K, output_dim = dim_embed, name = 'decoder_embedding')(decoder_input)\n",
        "    s_dec = GRU(latent_dim, activation = 'tanh', return_sequences=True, name = 'decoder_GRU')(dec_emb, initial_state = h_enc) # returns outputs of each step (dim of max_len * n_hidden_units)\n",
        "    O_h = TimeDistributed(Dense(2*latent_dim, activation = 'linear', name = 'O_h'))(s_dec) \n",
        "    O_y = TimeDistributed(Dense(2*latent_dim, activation = 'linear', name = 'O_y'))(dec_emb)\n",
        "    O_c = Dense(2*latent_dim, activation = 'linear', name = 'O_c')(h_enc)\n",
        "    O_m = Dense(2*latent_dim, activation = 'linear', name = 'O_m')(m_x)\n",
        "    s = Add()([O_h, O_y, O_c, O_m]) # add them all together\n",
        "    s = Reshape([max_len, 2*latent_dim, 1])(s)\n",
        "    s = MaxPool2D(pool_size=(1,2), strides=(1,2))(s) # max-out activation\n",
        "    s = Reshape([max_len, latent_dim])(s) # dimension of max_len * n_hidden_units\n",
        "    output = TimeDistributed(Dense(K, activation = 'softmax'))(s) #dimension of max_len * K(vocab_size) -> probability distribution of each words\n",
        "    \n",
        "    return Model(inputs = [encoder_input, decoder_input], outputs = output)"
      ],
      "execution_count": 2,
      "outputs": []
    },
    {
      "cell_type": "code",
      "metadata": {
        "id": "QpJVvm0BxlLX",
        "colab": {
          "base_uri": "https://localhost:8080/"
        },
        "outputId": "66cebd32-92e2-4556-dfab-08d2f397b334"
      },
      "source": [
        "trainer = Encoder_decoder_trainer(10, 100000)\n",
        "trainer.summary()"
      ],
      "execution_count": 17,
      "outputs": [
        {
          "output_type": "stream",
          "text": [
            "Model: \"model_5\"\n",
            "__________________________________________________________________________________________________\n",
            "Layer (type)                    Output Shape         Param #     Connected to                     \n",
            "==================================================================================================\n",
            "encoder_input (InputLayer)      [(None, 10)]         0                                            \n",
            "__________________________________________________________________________________________________\n",
            "decoder_input (InputLayer)      [(None, 10)]         0                                            \n",
            "__________________________________________________________________________________________________\n",
            "encoder_embedding (Embedding)   (None, 10, 100)      10000000    encoder_input[0][0]              \n",
            "__________________________________________________________________________________________________\n",
            "decoder_embedding (Embedding)   (None, 10, 100)      10000000    decoder_input[0][0]              \n",
            "__________________________________________________________________________________________________\n",
            "encoder_GRU (GRU)               (None, 1000)         3306000     encoder_embedding[0][0]          \n",
            "__________________________________________________________________________________________________\n",
            "decoder_GRU (GRU)               (None, 10, 1000)     3306000     decoder_embedding[0][0]          \n",
            "                                                                 encoder_GRU[0][0]                \n",
            "__________________________________________________________________________________________________\n",
            "m_x (GlobalAveragePooling1D)    (None, 100)          0           encoder_embedding[0][0]          \n",
            "__________________________________________________________________________________________________\n",
            "time_distributed_3 (TimeDistrib (None, 10, 2000)     2002000     decoder_GRU[0][0]                \n",
            "__________________________________________________________________________________________________\n",
            "time_distributed_4 (TimeDistrib (None, 10, 2000)     202000      decoder_embedding[0][0]          \n",
            "__________________________________________________________________________________________________\n",
            "O_c (Dense)                     (None, 2000)         2002000     encoder_GRU[0][0]                \n",
            "__________________________________________________________________________________________________\n",
            "O_m (Dense)                     (None, 2000)         202000      m_x[0][0]                        \n",
            "__________________________________________________________________________________________________\n",
            "add_3 (Add)                     (None, 10, 2000)     0           time_distributed_3[0][0]         \n",
            "                                                                 time_distributed_4[0][0]         \n",
            "                                                                 O_c[0][0]                        \n",
            "                                                                 O_m[0][0]                        \n",
            "__________________________________________________________________________________________________\n",
            "reshape_6 (Reshape)             (None, 10, 2000, 1)  0           add_3[0][0]                      \n",
            "__________________________________________________________________________________________________\n",
            "max_pooling2d_3 (MaxPooling2D)  (None, 10, 1000, 1)  0           reshape_6[0][0]                  \n",
            "__________________________________________________________________________________________________\n",
            "reshape_7 (Reshape)             (None, 10, 1000)     0           max_pooling2d_3[0][0]            \n",
            "__________________________________________________________________________________________________\n",
            "time_distributed_5 (TimeDistrib (None, 10, 100000)   100100000   reshape_7[0][0]                  \n",
            "==================================================================================================\n",
            "Total params: 131,120,000\n",
            "Trainable params: 131,120,000\n",
            "Non-trainable params: 0\n",
            "__________________________________________________________________________________________________\n"
          ],
          "name": "stdout"
        }
      ]
    },
    {
      "cell_type": "markdown",
      "metadata": {
        "id": "dpjPqMARNIS4"
      },
      "source": [
        "# 3. Model Training"
      ]
    },
    {
      "cell_type": "markdown",
      "metadata": {
        "id": "rTWIdoe6NuDY"
      },
      "source": [
        "## 3.1. Loading and Preprocessing data"
      ]
    },
    {
      "cell_type": "code",
      "metadata": {
        "id": "SXENnYwxvpC3"
      },
      "source": [
        "# Traing parameters of each layers"
      ],
      "execution_count": null,
      "outputs": []
    },
    {
      "cell_type": "markdown",
      "metadata": {
        "id": "4-1YSkCPNzBP"
      },
      "source": [
        "## 3.2. Training"
      ]
    },
    {
      "cell_type": "code",
      "metadata": {
        "id": "Jd0NPbSAN1xk"
      },
      "source": [
        ""
      ],
      "execution_count": null,
      "outputs": []
    },
    {
      "cell_type": "markdown",
      "metadata": {
        "id": "VpKH_L5hL2bu"
      },
      "source": [
        "# 4. Define Encoder and Decoder for inference"
      ]
    },
    {
      "cell_type": "code",
      "metadata": {
        "id": "ltCSSZ_woZ0E"
      },
      "source": [
        "#encoder for inference\n",
        "def encoder(trainer, max_len):\n",
        "    encoder_embedding_layer = trainer.layers[2]\n",
        "    encoder_GRU = trainer.layers[4]\n",
        "    \n",
        "    input = Input(shape = (max_len,))\n",
        "    enc_emb = encoder_embedding_layer(input)\n",
        "    h_enc = encoder_GRU(enc_emb)\n",
        "    m_x = GlobalAveragePooling1D()(enc_emb)\n",
        "    \n",
        "    return Model(inputs = input, outputs = [h_enc, m_x])"
      ],
      "execution_count": 18,
      "outputs": []
    },
    {
      "cell_type": "code",
      "metadata": {
        "colab": {
          "base_uri": "https://localhost:8080/"
        },
        "id": "Q4D-Ln4EvwAI",
        "outputId": "5e1c17c7-0088-4706-bd57-6b82686c0e2c"
      },
      "source": [
        "infer_encoder = encoder(trainer, max_len = 10)\n",
        "infer_encoder.summary()"
      ],
      "execution_count": 19,
      "outputs": [
        {
          "output_type": "stream",
          "text": [
            "Model: \"model_6\"\n",
            "__________________________________________________________________________________________________\n",
            "Layer (type)                    Output Shape         Param #     Connected to                     \n",
            "==================================================================================================\n",
            "input_11 (InputLayer)           [(None, 10)]         0                                            \n",
            "__________________________________________________________________________________________________\n",
            "encoder_embedding (Embedding)   (None, 10, 100)      10000000    input_11[0][0]                   \n",
            "__________________________________________________________________________________________________\n",
            "encoder_GRU (GRU)               (None, 1000)         3306000     encoder_embedding[1][0]          \n",
            "__________________________________________________________________________________________________\n",
            "global_average_pooling1d_2 (Glo (None, 100)          0           encoder_embedding[1][0]          \n",
            "==================================================================================================\n",
            "Total params: 13,306,000\n",
            "Trainable params: 13,306,000\n",
            "Non-trainable params: 0\n",
            "__________________________________________________________________________________________________\n"
          ],
          "name": "stdout"
        }
      ]
    },
    {
      "cell_type": "code",
      "metadata": {
        "id": "P3YIJ7QVq6QJ"
      },
      "source": [
        "#decoder for inference\n",
        "\n",
        "def decoder(trainer, latent_dim, dim_embed):\n",
        "    decoder_embedding_layer = trainer.layers[3]\n",
        "    decoder_GRU = trainer.layers[5]\n",
        "    O_h_dense = trainer.layers[7]\n",
        "    O_y_dense = trainer.layers[8]\n",
        "    O_c_dense = trainer.layers[9]\n",
        "    O_m_dense = trainer.layers[10]\n",
        "    output_dense = trainer.layers[15]\n",
        "\n",
        "    h_enc = Input(shape = (latent_dim))\n",
        "    m_x = Input(shape = (dim_embed))\n",
        "    decoder_input = Input(shape = (1,))\n",
        "    decoder_initial_state = Input(shape=(latent_dim,)) #will be \n",
        "    dec_emb = decoder_embedding_layer(decoder_input)\n",
        "    hidden_state = decoder_GRU(dec_emb, initial_state = decoder_initial_state)\n",
        "    O_h = O_h_dense(hidden_state)\n",
        "    O_y = O_y_dense(dec_emb)\n",
        "    O_c = O_c_dense(h_enc)\n",
        "    O_m = O_m_dense(m_x)\n",
        "    s = Add()([O_h, O_y, O_c, O_m]) # add them all together\n",
        "    s = Reshape([1, 2*latent_dim, 1])(s)\n",
        "    s = MaxPool2D(pool_size=(1,2), strides=(1,2))(s) # max-out activation\n",
        "    s = Reshape([1, latent_dim])(s) # dimension of max_len * n_hidden_units\n",
        "    output = output_dense(s)\n",
        "    hidden_state = Reshape([1000])(hidden_state)\n",
        "\n",
        "    return Model(inputs = [h_enc, m_x, decoder_input, decoder_initial_state], outputs = [output, hidden_state])"
      ],
      "execution_count": 67,
      "outputs": []
    },
    {
      "cell_type": "code",
      "metadata": {
        "colab": {
          "base_uri": "https://localhost:8080/"
        },
        "id": "TGUceFdSvbkL",
        "outputId": "96c8c886-cb1d-431d-d7c2-b27c8331014f"
      },
      "source": [
        "infer_decoder = decoder(trainer, latent_dim = 1000, dim_embed = 100)\n",
        "infer_decoder.summary()"
      ],
      "execution_count": 68,
      "outputs": [
        {
          "output_type": "stream",
          "text": [
            "Model: \"model_12\"\n",
            "__________________________________________________________________________________________________\n",
            "Layer (type)                    Output Shape         Param #     Connected to                     \n",
            "==================================================================================================\n",
            "input_38 (InputLayer)           [(None, 1)]          0                                            \n",
            "__________________________________________________________________________________________________\n",
            "decoder_embedding (Embedding)   multiple             10000000    input_38[0][0]                   \n",
            "__________________________________________________________________________________________________\n",
            "input_39 (InputLayer)           [(None, 1000)]       0                                            \n",
            "__________________________________________________________________________________________________\n",
            "decoder_GRU (GRU)               multiple             3306000     decoder_embedding[7][0]          \n",
            "                                                                 input_39[0][0]                   \n",
            "__________________________________________________________________________________________________\n",
            "input_36 (InputLayer)           [(None, 1000)]       0                                            \n",
            "__________________________________________________________________________________________________\n",
            "input_37 (InputLayer)           [(None, 100)]        0                                            \n",
            "__________________________________________________________________________________________________\n",
            "time_distributed_3 (TimeDistrib multiple             2002000     decoder_GRU[7][0]                \n",
            "__________________________________________________________________________________________________\n",
            "time_distributed_4 (TimeDistrib multiple             202000      decoder_embedding[7][0]          \n",
            "__________________________________________________________________________________________________\n",
            "O_c (Dense)                     multiple             2002000     input_36[0][0]                   \n",
            "__________________________________________________________________________________________________\n",
            "O_m (Dense)                     multiple             202000      input_37[0][0]                   \n",
            "__________________________________________________________________________________________________\n",
            "add_9 (Add)                     (None, 1, 2000)      0           time_distributed_3[6][0]         \n",
            "                                                                 time_distributed_4[6][0]         \n",
            "                                                                 O_c[6][0]                        \n",
            "                                                                 O_m[6][0]                        \n",
            "__________________________________________________________________________________________________\n",
            "reshape_21 (Reshape)            (None, 1, 2000, 1)   0           add_9[0][0]                      \n",
            "__________________________________________________________________________________________________\n",
            "max_pooling2d_9 (MaxPooling2D)  (None, 1, 1000, 1)   0           reshape_21[0][0]                 \n",
            "__________________________________________________________________________________________________\n",
            "reshape_22 (Reshape)            (None, 1, 1000)      0           max_pooling2d_9[0][0]            \n",
            "__________________________________________________________________________________________________\n",
            "time_distributed_5 (TimeDistrib multiple             100100000   reshape_22[0][0]                 \n",
            "__________________________________________________________________________________________________\n",
            "reshape_23 (Reshape)            (None, 1000)         0           decoder_GRU[7][0]                \n",
            "==================================================================================================\n",
            "Total params: 117,814,000\n",
            "Trainable params: 117,814,000\n",
            "Non-trainable params: 0\n",
            "__________________________________________________________________________________________________\n"
          ],
          "name": "stdout"
        }
      ]
    },
    {
      "cell_type": "markdown",
      "metadata": {
        "id": "5lP8FbBjL6em"
      },
      "source": [
        "# 5. Sentence translator given source sentence tokens"
      ]
    },
    {
      "cell_type": "code",
      "metadata": {
        "id": "qfb9XqcvvjbO"
      },
      "source": [
        "def generate_sentence(source_sentence, encoder = infer_encoder, decoder = infer_decoder, max_length = 30):\n",
        "    '''\n",
        "        source_sentence : array shape of (1, max_len)\n",
        "        encoder, decoder : predictive model\n",
        "        max_length : int\n",
        "    '''\n",
        "    sample_tokens = [0]\n",
        "    length = 0\n",
        "    h_enc, m_x = encoder.predict(source_sentence)\n",
        "    terminate_condition = False\n",
        "    while terminate_condition == False:\n",
        "        if length == 0:\n",
        "            output, hs = decoder.predict([h_enc, m_x, np.array([sample_tokens[-1]]), h_enc])\n",
        "        else:\n",
        "            output, hs = decoder.predict([h_enc, m_x, np.array([sample_tokens[-1]]), hs])\n",
        "        next_token = np.argmax(output)\n",
        "        sample_tokens.append(next_token)\n",
        "        length += 1\n",
        "\n",
        "        if sample_tokens[-1] == 0 or length > max_length:\n",
        "            terminate_condition = True\n",
        "\n",
        "    return sample_tokens"
      ],
      "execution_count": 22,
      "outputs": []
    },
    {
      "cell_type": "code",
      "metadata": {
        "colab": {
          "base_uri": "https://localhost:8080/"
        },
        "id": "W0q9Faot5KxF",
        "outputId": "2701e728-c7d0-4c49-8a01-2e406960ccc6"
      },
      "source": [
        "source_sentence = np.array([[10, 1, 20, 40, 6000, 400, 50000, 15000, 0, 0]])\n",
        "generate_sentence(source_sentence, infer_encoder, infer_decoder, max_length = 10)"
      ],
      "execution_count": 66,
      "outputs": [
        {
          "output_type": "execute_result",
          "data": {
            "text/plain": [
              "[0,\n",
              " 54506,\n",
              " 29638,\n",
              " 86782,\n",
              " 88338,\n",
              " 11509,\n",
              " 15430,\n",
              " 79068,\n",
              " 97911,\n",
              " 47687,\n",
              " 36436,\n",
              " 17620]"
            ]
          },
          "metadata": {
            "tags": []
          },
          "execution_count": 66
        }
      ]
    },
    {
      "cell_type": "code",
      "metadata": {
        "id": "09tqiGYP5Mud"
      },
      "source": [
        ""
      ],
      "execution_count": null,
      "outputs": []
    }
  ]
}